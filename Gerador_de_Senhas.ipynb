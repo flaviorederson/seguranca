{
  "nbformat": 4,
  "nbformat_minor": 0,
  "metadata": {
    "colab": {
      "provenance": [],
      "authorship_tag": "ABX9TyMRkPklHGPwZ58wJTHIYcN8",
      "include_colab_link": true
    },
    "kernelspec": {
      "name": "python3",
      "display_name": "Python 3"
    },
    "language_info": {
      "name": "python"
    }
  },
  "cells": [
    {
      "cell_type": "markdown",
      "metadata": {
        "id": "view-in-github",
        "colab_type": "text"
      },
      "source": [
        "<a href=\"https://colab.research.google.com/github/flaviorederson/seguranca/blob/main/Gerador_de_Senhas.ipynb\" target=\"_parent\"><img src=\"https://colab.research.google.com/assets/colab-badge.svg\" alt=\"Open In Colab\"/></a>"
      ]
    },
    {
      "cell_type": "code",
      "execution_count": null,
      "metadata": {
        "colab": {
          "base_uri": "https://localhost:8080/"
        },
        "id": "gpNu99IWRX-i",
        "outputId": "3e31ee55-7b5a-4178-f85e-36264393f5b1"
      },
      "outputs": [
        {
          "output_type": "stream",
          "name": "stdout",
          "text": [
            "\n",
            "Gerador de Senhas\n",
            "1. Senha com letras, números e símbolos\n",
            "2. Senha com letras e números\n",
            "3. Senha com letras e símbolos\n",
            "4. Sair\n",
            "Escolha uma opção: 4\n",
            "Saindo...\n"
          ]
        }
      ],
      "source": [
        "# @title Gerador de Texto\n",
        "\n",
        "# Gerador de senhas\n",
        "import random\n",
        "import string\n",
        "\n",
        "def gerar_senha(tamanho, incluir_numeros=True, incluir_simbolos=True):\n",
        "    caracteres_base = string.ascii_letters # Letras maiúsculas e minúsculas\n",
        "    if incluir_numeros:\n",
        "        caracteres_base += string.digits\n",
        "    if incluir_simbolos:\n",
        "        caracteres_base += string.punctuation\n",
        "\n",
        "    senha = ''.join(random.choice(caracteres_base) for _ in range(tamanho))\n",
        "    return senha\n",
        "\n",
        "# Opções interativas\n",
        "while True:\n",
        "    print(\"\\nGerador de Senhas\")\n",
        "    print(\"1. Senha com letras, números e símbolos\")\n",
        "    print(\"2. Senha com letras e números\")\n",
        "    print(\"3. Senha com letras e símbolos\")\n",
        "    print(\"4. Sair\")\n",
        "\n",
        "    opcao = input(\"Escolha uma opção: \")\n",
        "    if opcao == '1':\n",
        "        tamanho = int(input(\"Digite o tamanho da senha: \"))\n",
        "        senha = gerar_senha(tamanho)\n",
        "        print(f\"Senha gerada: {senha}\")\n",
        "    elif opcao == '2':\n",
        "        tamanho = int(input(\"Digite o tamanho da senha: \"))\n",
        "        senha = gerar_senha(tamanho, incluir_simbolos=False)\n",
        "        print(f\"Senha gerada: {senha}\")\n",
        "    elif opcao == '3':\n",
        "        tamanho = int(input(\"Digite o tamanho da senha: \"))\n",
        "        senha = gerar_senha(tamanho, incluir_numeros=False)\n",
        "        print(f\"Senha gerada: {senha}\")\n",
        "    elif opcao == '4':\n",
        "        print(\"Saindo...\")\n",
        "        break\n",
        "    else:\n",
        "        print(\"Opção inválida. Tente novamente.\")\n",
        "\n"
      ]
    }
  ]
}