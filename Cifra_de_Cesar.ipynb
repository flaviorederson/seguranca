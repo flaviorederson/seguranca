{
  "nbformat": 4,
  "nbformat_minor": 0,
  "metadata": {
    "colab": {
      "provenance": [],
      "authorship_tag": "ABX9TyOy1Q2cTyDpNPqs2cO1YXUA",
      "include_colab_link": true
    },
    "kernelspec": {
      "name": "python3",
      "display_name": "Python 3"
    },
    "language_info": {
      "name": "python"
    }
  },
  "cells": [
    {
      "cell_type": "markdown",
      "metadata": {
        "id": "view-in-github",
        "colab_type": "text"
      },
      "source": [
        "<a href=\"https://colab.research.google.com/github/flaviorederson/seguranca/blob/main/Cifra_de_Cesar.ipynb\" target=\"_parent\"><img src=\"https://colab.research.google.com/assets/colab-badge.svg\" alt=\"Open In Colab\"/></a>"
      ]
    },
    {
      "cell_type": "code",
      "execution_count": null,
      "metadata": {
        "colab": {
          "base_uri": "https://localhost:8080/"
        },
        "id": "daRjgOpNfapv",
        "outputId": "92d04786-0dce-442d-8358-bb9c947f04a0"
      },
      "outputs": [
        {
          "output_type": "stream",
          "name": "stdout",
          "text": [
            "Digite a mensagem: Ufwfgjsx uwf athj\n",
            "Digite o deslocamento (número inteiro): 5\n",
            "Digite 'E' para criptografar ou 'D' para descriptografar: D\n",
            "Mensagem descriptografada: Parabens pra voce\n"
          ]
        }
      ],
      "source": [
        "# @title Cifra de Cesar\n",
        "def cifra_cesar(texto, deslocamento):\n",
        "    \"\"\"\n",
        "    Função para criptografar ou descriptografar uma mensagem usando a cifra de César.\n",
        "\n",
        "    :param texto: A mensagem a ser criptografada ou descriptografada.\n",
        "    :param deslocamento: O número de posições que cada letra deve ser deslocada.\n",
        "    :return: A mensagem criptografada ou descriptografada.\n",
        "    \"\"\"\n",
        "    resultado = \"\"\n",
        "\n",
        "    # Percorre cada caractere da mensagem original\n",
        "    for char in texto:\n",
        "        # Verifica se o caractere é uma letra maiúscula\n",
        "        if char.isupper():\n",
        "            # Calcula a posição do caractere no alfabeto e aplica o deslocamento\n",
        "            resultado += chr((ord(char) + deslocamento - 65) % 26 + 65)\n",
        "        # Verifica se o caractere é uma letra minúscula\n",
        "        elif char.islower():\n",
        "            # Calcula a posição do caractere no alfabeto e aplica o deslocamento\n",
        "            resultado += chr((ord(char) + deslocamento - 97) % 26 + 97)\n",
        "        else:\n",
        "            # Caso o caractere não seja uma letra, apenas adiciona ao resultado sem alterações\n",
        "            resultado += char\n",
        "\n",
        "    return resultado\n",
        "\n",
        "def main():\n",
        "    \"\"\"\n",
        "    Função principal para executar o programa de cifra de César.\n",
        "    \"\"\"\n",
        "    # Solicita ao usuário que insira a mensagem a ser criptografada ou descriptografada\n",
        "    mensagem = input(\"Digite a mensagem: \")\n",
        "    # Solicita ao usuário que insira o deslocamento para a cifra de César\n",
        "    deslocamento = int(input(\"Digite o deslocamento (número inteiro): \"))\n",
        "\n",
        "    # Solicita ao usuário que escolha a operação desejada\n",
        "    operacao = input(\"Digite 'E' para criptografar ou 'D' para descriptografar: \").strip().upper()\n",
        "\n",
        "    if operacao == 'E':\n",
        "        # Criptografa a mensagem\n",
        "        mensagem_criptografada = cifra_cesar(mensagem, deslocamento)\n",
        "        print(\"Mensagem criptografada:\", mensagem_criptografada)\n",
        "    elif operacao == 'D':\n",
        "        # Descriptografa a mensagem (deslocamento negativo)\n",
        "        mensagem_descriptografada = cifra_cesar(mensagem, -deslocamento)\n",
        "        print(\"Mensagem descriptografada:\", mensagem_descriptografada)\n",
        "    else:\n",
        "        # Mensagem de erro para operação inválida\n",
        "        print(\"Operação inválida. Por favor, digite 'E' ou 'D'.\")\n",
        "\n",
        "if __name__ == \"__main__\":\n",
        "    main()\n",
        "\n"
      ]
    },
    {
      "cell_type": "markdown",
      "source": [
        "Explicação do Código\n",
        "Função cifra_cesar:\n",
        "\n",
        "Recebe dois parâmetros: o texto a ser criptografado/descriptografado e o deslocamento.\n",
        "Usa o código ASCII das letras para calcular a nova posição de cada letra após o deslocamento.\n",
        "Trata letras maiúsculas e minúsculas separadamente, enquanto outros caracteres (não alfabéticos) são deixados inalterados.\n",
        "Função main:\n",
        "\n",
        "Solicita ao usuário que insira a mensagem e o deslocamento.\n",
        "Permite ao usuário escolher entre criptografar ou descriptografar.\n",
        "Dependendo da escolha do usuário, aplica a função cifra_cesar com o deslocamento apropriado (positivo para criptografar, negativo para descriptografar).\n",
        "Bloco if __name__ == \"__main__\"::\n",
        "\n",
        "Garante que a função main seja executada apenas quando o script é executado diretamente, não quando importado como um módulo.\n",
        "Este código deve ser executado em um ambiente Python onde o usuário pode fornecer entradas e ver o resultado diretamente no terminal ou console."
      ],
      "metadata": {
        "id": "23ic5dVijtL9"
      }
    }
  ]
}